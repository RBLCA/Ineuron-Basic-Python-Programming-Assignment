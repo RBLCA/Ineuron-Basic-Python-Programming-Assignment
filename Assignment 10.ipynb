{
 "cells": [
  {
   "cell_type": "markdown",
   "id": "3a17cd1f",
   "metadata": {},
   "source": [
    "# 1. Write a Python program to find sum of elements in list?"
   ]
  },
  {
   "cell_type": "code",
   "execution_count": 1,
   "id": "c4978b33",
   "metadata": {},
   "outputs": [
    {
     "name": "stdout",
     "output_type": "stream",
     "text": [
      "Please enter length of your list:5\n",
      "21\n",
      "36\n",
      "25\n",
      "15\n",
      "35\n",
      "The list is: [21, 36, 25, 15, 35]\n",
      "The sum of element of list: 132\n"
     ]
    }
   ],
   "source": [
    "No = int(input('Please enter length of your list:'))\n",
    "l1 = []\n",
    "\n",
    "for i in range(No):\n",
    "    l1.append(int(input()))\n",
    "print(f'The list is: {l1}')\n",
    "print(f'The sum of element of list: {sum(l1)}')"
   ]
  },
  {
   "cell_type": "markdown",
   "id": "7f01b527",
   "metadata": {},
   "source": [
    "# 2. Write a Python program to  Multiply all numbers in the list?"
   ]
  },
  {
   "cell_type": "code",
   "execution_count": 2,
   "id": "1f23c0e3",
   "metadata": {},
   "outputs": [
    {
     "name": "stdout",
     "output_type": "stream",
     "text": [
      "please enter length of list: 5\n",
      "16\n",
      "35\n",
      "15\n",
      "49\n",
      "65\n",
      "The list is [16, 35, 15, 49, 65]\n",
      "The multiplication of list is: 26754000\n"
     ]
    }
   ],
   "source": [
    "n = int(input('please enter length of list: '))\n",
    "l2 = []\n",
    "\n",
    "for i in range(n):\n",
    "    l2.append(int(input()))    \n",
    "print(f'The list is {l2}')\n",
    "\n",
    "multiplication = 1\n",
    "for i in l2:\n",
    "    multiplication = multiplication * i\n",
    "print(f'The multiplication of list is: {multiplication}')"
   ]
  },
  {
   "cell_type": "markdown",
   "id": "f707377a",
   "metadata": {},
   "source": [
    "# 3. Write a Python program to find smallest number in a list?"
   ]
  },
  {
   "cell_type": "code",
   "execution_count": 3,
   "id": "c6ee61c9",
   "metadata": {},
   "outputs": [
    {
     "name": "stdout",
     "output_type": "stream",
     "text": [
      "please enter length of list: 5\n",
      "68\n",
      "15\n",
      "2\n",
      "269\n",
      "469\n",
      "The list is [68, 15, 2, 269, 469]\n",
      "The smallest no. of list is: 2\n"
     ]
    }
   ],
   "source": [
    "n = int(input('please enter length of list: '))\n",
    "l3 = []\n",
    "\n",
    "for i in range(n):\n",
    "    l3.append(int(input()))    \n",
    "print(f'The list is {l3}')\n",
    "print(f'The smallest no. of list is: {min(l3)}')"
   ]
  },
  {
   "cell_type": "markdown",
   "id": "6f9a25ec",
   "metadata": {},
   "source": [
    "# 4. Write a Python program to find largest number in a list?"
   ]
  },
  {
   "cell_type": "code",
   "execution_count": 4,
   "id": "f167cd90",
   "metadata": {},
   "outputs": [
    {
     "name": "stdout",
     "output_type": "stream",
     "text": [
      "please enter length of list: 6\n",
      "16\n",
      "649\n",
      "15\n",
      "1669\n",
      "1536\n",
      "164\n",
      "The list is [16, 649, 15, 1669, 1536, 164]\n",
      "The largest no. of list is: 1669\n"
     ]
    }
   ],
   "source": [
    "n = int(input('please enter length of list: '))\n",
    "l4 = []\n",
    "\n",
    "for i in range(n):\n",
    "    l4.append(int(input()))    \n",
    "print(f'The list is {l4}')\n",
    "print(f'The largest no. of list is: {max(l4)}')"
   ]
  },
  {
   "cell_type": "markdown",
   "id": "583c5d21",
   "metadata": {},
   "source": [
    "# 5. Write a Python program to find second largest number in a list?"
   ]
  },
  {
   "cell_type": "code",
   "execution_count": 7,
   "id": "796cdeb2",
   "metadata": {},
   "outputs": [
    {
     "name": "stdout",
     "output_type": "stream",
     "text": [
      "please enter length of list: 5\n",
      "16\n",
      "49\n",
      "65\n",
      "156\n",
      "1664\n",
      "The list is: [16, 49, 65, 156, 1664]\n",
      "The Second largest no. of list is: 156\n"
     ]
    }
   ],
   "source": [
    "n = int(input('please enter length of list: '))\n",
    "l5 = []\n",
    "\n",
    "for i in range(n):\n",
    "    l5.append(int(input()))\n",
    "l5 = sorted(l5)\n",
    "print(f'The list is: {l5}')\n",
    "print(f'The Second largest no. of list is: {l5[-2]}')"
   ]
  },
  {
   "cell_type": "markdown",
   "id": "5cb16e61",
   "metadata": {},
   "source": [
    "# 6. Write a Python program to find N largest elements from a list?"
   ]
  },
  {
   "cell_type": "code",
   "execution_count": 8,
   "id": "0bff80c4",
   "metadata": {},
   "outputs": [
    {
     "name": "stdout",
     "output_type": "stream",
     "text": [
      "Please enter length of the list: 6\n",
      "15\n",
      "498\n",
      "654\n",
      "14558\n",
      "1653\n",
      "1546\n",
      "The list is [15, 498, 654, 14558, 1653, 1546]\n",
      "The element of list are placed in ascending orded [15, 498, 654, 1546, 1653, 14558]\n",
      "Enter how many largest you required: 3\n",
      "3 largest element from the list are:  [1546, 1653, 14558]\n"
     ]
    }
   ],
   "source": [
    "n = int(input('Please enter length of the list: '))\n",
    "l6 = []\n",
    "\n",
    "for i in range(n):\n",
    "    l6.append(int(input()))\n",
    "    \n",
    "print('The list is', l6)\n",
    "l6.sort()\n",
    "print('The element of list are placed in ascending orded', l6)\n",
    "\n",
    "nlarg = int(input('Enter how many largest you required: '))\n",
    "\n",
    "if n < nlarg:\n",
    "    print('Please enter value larger than length of the list.')\n",
    "else:\n",
    "    print(nlarg, 'largest element from the list are: ', l6[(n-nlarg):])"
   ]
  },
  {
   "cell_type": "markdown",
   "id": "b8abe5f3",
   "metadata": {},
   "source": [
    "# 7. Write a Python program to print even numbers in a list?"
   ]
  },
  {
   "cell_type": "code",
   "execution_count": 9,
   "id": "29c64195",
   "metadata": {},
   "outputs": [
    {
     "name": "stdout",
     "output_type": "stream",
     "text": [
      "please enter length of the list: 10\n",
      "21\n",
      "65\n",
      "20\n",
      "1855\n",
      "64\n",
      "286\n",
      "29\n",
      "34\n",
      "18\n",
      "2561\n",
      "The list is: [21, 65, 20, 1855, 64, 286, 29, 34, 18, 2561]\n",
      "The evel no. in the list are: [20, 64, 286, 34, 18]\n"
     ]
    }
   ],
   "source": [
    "n = int(input(\"please enter length of the list: \"))\n",
    "l7 = []\n",
    "\n",
    "for i in range(n):\n",
    "    l7.append(int(input()))\n",
    "    \n",
    "print(f'The list is: {l7}')\n",
    "\n",
    "even_number = [i for i in l7 if i%2 == 0]\n",
    "print(f'The evel no. in the list are: {even_number}')        "
   ]
  },
  {
   "cell_type": "markdown",
   "id": "52db0d88",
   "metadata": {},
   "source": [
    "# 8. Write a Python program to print odd numbers in a List?"
   ]
  },
  {
   "cell_type": "code",
   "execution_count": 10,
   "id": "e223fd1f",
   "metadata": {},
   "outputs": [
    {
     "name": "stdout",
     "output_type": "stream",
     "text": [
      "please enter length of the list: 10\n",
      "15\n",
      "16\n",
      "18\n",
      "19\n",
      "32\n",
      "34\n",
      "33\n",
      "21\n",
      "187\n",
      "134\n",
      "The list is: [15, 16, 18, 19, 32, 34, 33, 21, 187, 134]\n",
      "The evel no. in the list are: [15, 19, 33, 21, 187]\n"
     ]
    }
   ],
   "source": [
    "n = int(input(\"please enter length of the list: \"))\n",
    "l8 = []\n",
    "\n",
    "for i in range(n):\n",
    "    l8.append(int(input()))\n",
    "    \n",
    "print(f'The list is: {l8}')\n",
    "\n",
    "odd_number = [i for i in l8 if i%2 != 0]\n",
    "print(f'The evel no. in the list are: {odd_number}')     "
   ]
  },
  {
   "cell_type": "markdown",
   "id": "001f9eae",
   "metadata": {},
   "source": [
    "# 9. Write a Python program to Remove empty List from List?"
   ]
  },
  {
   "cell_type": "code",
   "execution_count": 11,
   "id": "dca6534f",
   "metadata": {},
   "outputs": [
    {
     "name": "stdout",
     "output_type": "stream",
     "text": [
      "The list with empty list: [12, 22, 'ineiron', [], 32, 12, [], 'tech-neuron']\n",
      "The list without empty list: [12, 22, 'ineiron', 32, 12, 'tech-neuron']\n"
     ]
    }
   ],
   "source": [
    "l9 = [12,22, 'ineiron', [], 32,12,[], 'tech-neuron']\n",
    "New_l9 = []\n",
    "for i in l9:\n",
    "    if i == []:\n",
    "        pass\n",
    "    else:\n",
    "        New_l9.append(i)\n",
    "print(f'The list with empty list: {l9}')\n",
    "print(f'The list without empty list: {New_l9}')"
   ]
  },
  {
   "cell_type": "markdown",
   "id": "9d091376",
   "metadata": {},
   "source": [
    "# 10. Write a Python program to Cloning or Copying a list?"
   ]
  },
  {
   "cell_type": "code",
   "execution_count": 12,
   "id": "08d2c4cb",
   "metadata": {},
   "outputs": [
    {
     "name": "stdout",
     "output_type": "stream",
     "text": [
      "Please enter the length of the list: 5\n",
      "16\n",
      "32\n",
      "164\n",
      "4663\n",
      "165\n",
      "The List is: [16, 32, 164, 4663, 165]\n",
      "The Clonning List: [16, 32, 164, 4663, 165]\n"
     ]
    }
   ],
   "source": [
    "n = int(input('Please enter the length of the list: '))\n",
    "l10 = []\n",
    "for i in range(n):\n",
    "    l10.append(int(input()))\n",
    "print(f'The List is: {l10}')\n",
    "\n",
    "clonning = l10.copy()\n",
    "print(f'The Clonning List: {clonning}')"
   ]
  },
  {
   "cell_type": "markdown",
   "id": "99808d78",
   "metadata": {},
   "source": [
    "# 11. Write a Python program to Count occurrences of an element in a list?"
   ]
  },
  {
   "cell_type": "code",
   "execution_count": 13,
   "id": "3d33fa41",
   "metadata": {},
   "outputs": [
    {
     "name": "stdout",
     "output_type": "stream",
     "text": [
      "Please enters the length of the list: 5\n",
      "21\n",
      "14\n",
      "21\n",
      "14\n",
      "14\n",
      "The list is: [21, 14, 21, 14, 14]\n",
      "Enter the element to check the occureance: 21\n",
      "21 has occured 2 times in the list\n"
     ]
    }
   ],
   "source": [
    "list_n = int(input('Please enters the length of the list: '))\n",
    "occ_list = []\n",
    "\n",
    "for i in range(list_n):\n",
    "    occ_list.append(int(input()))\n",
    "print(f'The list is: {occ_list}')\n",
    "value = int(input('Enter the element to check the occureance: '))\n",
    "print(f'{value} has occured {occ_list.count(value)} times in the list')"
   ]
  }
 ],
 "metadata": {
  "kernelspec": {
   "display_name": "Python 3 (ipykernel)",
   "language": "python",
   "name": "python3"
  },
  "language_info": {
   "codemirror_mode": {
    "name": "ipython",
    "version": 3
   },
   "file_extension": ".py",
   "mimetype": "text/x-python",
   "name": "python",
   "nbconvert_exporter": "python",
   "pygments_lexer": "ipython3",
   "version": "3.9.7"
  }
 },
 "nbformat": 4,
 "nbformat_minor": 5
}
