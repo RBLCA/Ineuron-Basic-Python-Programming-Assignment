{
 "cells": [
  {
   "cell_type": "markdown",
   "id": "7220cbbd",
   "metadata": {},
   "source": [
    "# 1. Write a Python Program to Find LCM?"
   ]
  },
  {
   "cell_type": "code",
   "execution_count": 1,
   "id": "a71b7d56",
   "metadata": {},
   "outputs": [
    {
     "name": "stdout",
     "output_type": "stream",
     "text": [
      "enetr first no.: 10\n",
      "enter second no.: 15\n",
      "The LCM of 10 and 15 is 30\n"
     ]
    }
   ],
   "source": [
    "a = int(input('enetr first no.: '))\n",
    "b = int(input('enter second no.: '))\n",
    "\n",
    "if a > b:\n",
    "    greator = a\n",
    "else:\n",
    "    greator = b\n",
    "    \n",
    "while True:\n",
    "    if greator % a == 0 and greator % b == 0:\n",
    "        lcm = greator\n",
    "        break\n",
    "    greator += 1\n",
    "print(f'The LCM of {a} and {b} is {greator}')"
   ]
  },
  {
   "cell_type": "markdown",
   "id": "b073e511",
   "metadata": {},
   "source": [
    "# 2.Write a Python Program to Find HCF?"
   ]
  },
  {
   "cell_type": "code",
   "execution_count": 2,
   "id": "5339f667",
   "metadata": {},
   "outputs": [
    {
     "name": "stdout",
     "output_type": "stream",
     "text": [
      "Enter first no.: 10\n",
      "Enter second no.: 20\n",
      "The HCF of 10 and 20 is 10\n"
     ]
    }
   ],
   "source": [
    "a = int(input('Enter first no.: '))\n",
    "b = int(input('Enter second no.: '))\n",
    "if a < b:\n",
    "    lower = a\n",
    "else:\n",
    "    lower = b\n",
    "\n",
    "HCF = 0\n",
    "\n",
    "for i in range(1, lower+1):\n",
    "    if a % i == 0 and b % i == 0:\n",
    "        HCF = i\n",
    "print(f'The HCF of {a} and {b} is {HCF}')"
   ]
  },
  {
   "cell_type": "markdown",
   "id": "2998485f",
   "metadata": {},
   "source": [
    "# 3. Write a Python Program to Convert Decimal to Binary, Octal and Hexadecimal?"
   ]
  },
  {
   "cell_type": "code",
   "execution_count": 3,
   "id": "071b5e79",
   "metadata": {},
   "outputs": [
    {
     "name": "stdout",
     "output_type": "stream",
     "text": [
      "Enter a no.: 30\n",
      "30 in Binary :  0b11110\n",
      "30 in Octal :  0o36\n",
      "30 in Hexadecimal :  0x1e\n"
     ]
    }
   ],
   "source": [
    "Number = int(input('Enter a no.: '))\n",
    "\n",
    "print(Number, 'in Binary : ', bin(Number))\n",
    "print(Number, 'in Octal : ', oct(Number))\n",
    "print(Number, 'in Hexadecimal : ', hex(Number))"
   ]
  },
  {
   "cell_type": "markdown",
   "id": "c69d8376",
   "metadata": {},
   "source": [
    "# 4. Write a Python Program To Find ASCII value of a character?"
   ]
  },
  {
   "cell_type": "code",
   "execution_count": 5,
   "id": "bf653433",
   "metadata": {},
   "outputs": [
    {
     "name": "stdout",
     "output_type": "stream",
     "text": [
      "Enter a string value: 5\n",
      "ASCII value of character 5 is 53\n"
     ]
    }
   ],
   "source": [
    "value = input('Enter a string value: ')\n",
    "\n",
    "\n",
    "print(f'ASCII value of character {value} is {ord(value)}')"
   ]
  },
  {
   "cell_type": "markdown",
   "id": "707e934a",
   "metadata": {},
   "source": [
    "# 5. Write a Python Program to Make a Simple Calculator with 4 basic mathematical operations?"
   ]
  },
  {
   "cell_type": "code",
   "execution_count": 6,
   "id": "a2b54d6a",
   "metadata": {},
   "outputs": [
    {
     "name": "stdout",
     "output_type": "stream",
     "text": [
      "Enter first value: 100\n",
      "Enter seconds value: 25\n",
      "Please enter + to addittion: \n",
      "please enter - to subtract: \n",
      "please enter * to multiply: \n",
      "please enter / to divide: *\n",
      "100.0 * 25.0 = 2500.0\n"
     ]
    }
   ],
   "source": [
    "a = float(input('Enter first value: '))\n",
    "b = float(input('Enter seconds value: '))\n",
    "\n",
    "Calculator_operation = input('Please enter + to addittion: \\nplease enter - to subtract: \\nplease enter * to multiply: \\nplease enter / to divide: ''')\n",
    "\n",
    "addition = a + b\n",
    "substraction = a - b\n",
    "multiplication = a * b\n",
    "\n",
    "if Calculator_operation == \"+\":\n",
    "    print(f'{a} + {b} = {addition}')\n",
    "elif Calculator_operation == '-':\n",
    "    print(f'{a} - {b} = {substraction}')\n",
    "elif Calculator_operation == '*':\n",
    "    print(f'{a} * {b} = {multiplication}')\n",
    "elif Calculator_operation == '/':\n",
    "    if a == 0 or b == 0:\n",
    "        print('Division with zero is not possible')\n",
    "    else:\n",
    "        division = a / b\n",
    "        print(f'{a} / {b} = {division}')\n",
    "else: \n",
    "    print('Incorrect Input: please enter valid input')"
   ]
  }
 ],
 "metadata": {
  "kernelspec": {
   "display_name": "Python 3 (ipykernel)",
   "language": "python",
   "name": "python3"
  },
  "language_info": {
   "codemirror_mode": {
    "name": "ipython",
    "version": 3
   },
   "file_extension": ".py",
   "mimetype": "text/x-python",
   "name": "python",
   "nbconvert_exporter": "python",
   "pygments_lexer": "ipython3",
   "version": "3.9.7"
  }
 },
 "nbformat": 4,
 "nbformat_minor": 5
}
