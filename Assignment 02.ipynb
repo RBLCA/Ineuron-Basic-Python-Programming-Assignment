{
 "cells": [
  {
   "cell_type": "markdown",
   "id": "6e94d6c5",
   "metadata": {},
   "source": [
    "# 1. Write a Python program to convert kilometers to miles?"
   ]
  },
  {
   "cell_type": "code",
   "execution_count": 1,
   "id": "15d83aa1",
   "metadata": {},
   "outputs": [
    {
     "name": "stdout",
     "output_type": "stream",
     "text": [
      "Enter values of kilometer: 25\n",
      "kilomter to miles: 25 kilometers is 15.534275000000001 miles.\n"
     ]
    }
   ],
   "source": [
    "Km = int(input('Enter values of kilometer: '))\n",
    "miles = Km * 0.621371\n",
    "\n",
    "print(f'kilomter to miles: {Km} kilometers is {miles} miles.')"
   ]
  },
  {
   "cell_type": "markdown",
   "id": "d7f9c051",
   "metadata": {},
   "source": [
    "# 2. Write a Python program to convert Celsius to Fahrenheit?"
   ]
  },
  {
   "cell_type": "code",
   "execution_count": 2,
   "id": "714a4bc1",
   "metadata": {},
   "outputs": [
    {
     "name": "stdout",
     "output_type": "stream",
     "text": [
      "Enter temperature value in celcius: 25\n",
      "Celcius to Fahrenheit: 25 Celcius is 77.0 Fahrenheit.\n"
     ]
    }
   ],
   "source": [
    "Celcius = int(input(\"Enter temperature value in celcius: \"))\n",
    "Fahrenheit = (Celcius * 1.8) + 32\n",
    "\n",
    "print(f'Celcius to Fahrenheit: {Celcius} Celcius is {Fahrenheit} Fahrenheit.')"
   ]
  },
  {
   "cell_type": "markdown",
   "id": "338cc340",
   "metadata": {},
   "source": [
    "# 3. Write a Python program to display calendar?"
   ]
  },
  {
   "cell_type": "code",
   "execution_count": 3,
   "id": "5e9be6f9",
   "metadata": {},
   "outputs": [
    {
     "name": "stdout",
     "output_type": "stream",
     "text": [
      "Enter the year: 2022\n",
      "Enter the month in no.: 10\n",
      "    October 2022\n",
      "Mo Tu We Th Fr Sa Su\n",
      "                1  2\n",
      " 3  4  5  6  7  8  9\n",
      "10 11 12 13 14 15 16\n",
      "17 18 19 20 21 22 23\n",
      "24 25 26 27 28 29 30\n",
      "31\n",
      "\n"
     ]
    }
   ],
   "source": [
    "import calendar\n",
    "Year = int(input(\"Enter the year: \"))\n",
    "Month = int(input(\"Enter the month in no.: \"))\n",
    "print(calendar.month(Year, Month))"
   ]
  },
  {
   "cell_type": "markdown",
   "id": "2f033a73",
   "metadata": {},
   "source": [
    "# 4. Write a Python program to solve quadratic equation?"
   ]
  },
  {
   "cell_type": "markdown",
   "id": "bc32da4b",
   "metadata": {},
   "source": [
    "Formula:- \n",
    "    \n",
    "    x = -b+-sqrt(b**2-4ac)/2*a"
   ]
  },
  {
   "cell_type": "code",
   "execution_count": 4,
   "id": "6ded9eb5",
   "metadata": {},
   "outputs": [
    {
     "name": "stdout",
     "output_type": "stream",
     "text": [
      "Enter a: 1\n",
      "Enter b: 5\n",
      "Enter c: 6\n",
      "(-2+0j) , (-3+0j)\n"
     ]
    }
   ],
   "source": [
    "import cmath\n",
    "a = int(input(\"Enter a: \"))\n",
    "b = int(input(\"Enter b: \"))\n",
    "c = int(input(\"Enter c: \"))\n",
    "discriminant = (b**2)-(4*a*c)\n",
    "Solution_1 = (-b+cmath.sqrt(discriminant))/(2*a)\n",
    "Solution_2 = (-b-cmath.sqrt(discriminant))/(2*a)\n",
    "\n",
    "print(Solution_1,\",\",Solution_2)"
   ]
  },
  {
   "cell_type": "markdown",
   "id": "a91f9b40",
   "metadata": {},
   "source": [
    "# 5. Write a Python program to swap two variables without temp variable?"
   ]
  },
  {
   "cell_type": "code",
   "execution_count": 5,
   "id": "9ce0b7fc",
   "metadata": {},
   "outputs": [
    {
     "name": "stdout",
     "output_type": "stream",
     "text": [
      "Enter first value: 1111\n",
      "Enter second value: 2222\n",
      "Varibale before swap first variable: 1111 and second variable: 2222\n",
      "variable after swap first variable is 2222 and seconda variable: 1111\n"
     ]
    }
   ],
   "source": [
    "Variable_1 = int(input(\"Enter first value: \"))\n",
    "Variable_2 = int(input('Enter second value: '))\n",
    "\n",
    "print(f\"Varibale before swap first variable: {Variable_1} and second variable: {Variable_2}\")\n",
    "\n",
    "Variable_1, Variable_2 = Variable_2, Variable_1\n",
    "\n",
    "print(f\"variable after swap first variable is {Variable_1} and seconda variable: {Variable_2}\")"
   ]
  }
 ],
 "metadata": {
  "kernelspec": {
   "display_name": "Python 3 (ipykernel)",
   "language": "python",
   "name": "python3"
  },
  "language_info": {
   "codemirror_mode": {
    "name": "ipython",
    "version": 3
   },
   "file_extension": ".py",
   "mimetype": "text/x-python",
   "name": "python",
   "nbconvert_exporter": "python",
   "pygments_lexer": "ipython3",
   "version": "3.9.7"
  }
 },
 "nbformat": 4,
 "nbformat_minor": 5
}
