{
 "cells": [
  {
   "cell_type": "markdown",
   "id": "8f114df6",
   "metadata": {},
   "source": [
    "# 1. Write a Python program to print \"Hello Python\"?"
   ]
  },
  {
   "cell_type": "markdown",
   "id": "0099c9ff",
   "metadata": {},
   "source": [
    "Ans:-"
   ]
  },
  {
   "cell_type": "code",
   "execution_count": 1,
   "id": "d629995e",
   "metadata": {},
   "outputs": [
    {
     "name": "stdout",
     "output_type": "stream",
     "text": [
      "Hello Python\n"
     ]
    }
   ],
   "source": [
    "print(\"Hello Python\")"
   ]
  },
  {
   "cell_type": "markdown",
   "id": "366c4612",
   "metadata": {},
   "source": [
    "# 2. Write a Python program to do arithmetical operations addition and division.?"
   ]
  },
  {
   "cell_type": "markdown",
   "id": "5df963f5",
   "metadata": {},
   "source": [
    "Ans:-"
   ]
  },
  {
   "cell_type": "code",
   "execution_count": 2,
   "id": "0bbe4b46",
   "metadata": {},
   "outputs": [
    {
     "name": "stdout",
     "output_type": "stream",
     "text": [
      "addition operation : 12\n",
      "divion operation : 5.0\n"
     ]
    }
   ],
   "source": [
    "a = 10\n",
    "b = 2\n",
    "\n",
    "print(f'addition operation : {a + b}')\n",
    "print(f'divion operation : {a / b}')"
   ]
  },
  {
   "cell_type": "markdown",
   "id": "e658881a",
   "metadata": {},
   "source": [
    "OR"
   ]
  },
  {
   "cell_type": "code",
   "execution_count": 3,
   "id": "456555a4",
   "metadata": {},
   "outputs": [],
   "source": [
    "def addition(a,b):\n",
    "    return a + b\n",
    "\n",
    "def division(a,b):\n",
    "    return a / b"
   ]
  },
  {
   "cell_type": "code",
   "execution_count": 4,
   "id": "6ac7cb62",
   "metadata": {},
   "outputs": [
    {
     "data": {
      "text/plain": [
       "12"
      ]
     },
     "execution_count": 4,
     "metadata": {},
     "output_type": "execute_result"
    }
   ],
   "source": [
    "addition(a,b)"
   ]
  },
  {
   "cell_type": "code",
   "execution_count": 5,
   "id": "f4943d32",
   "metadata": {},
   "outputs": [
    {
     "data": {
      "text/plain": [
       "5.0"
      ]
     },
     "execution_count": 5,
     "metadata": {},
     "output_type": "execute_result"
    }
   ],
   "source": [
    "division(a,b)"
   ]
  },
  {
   "cell_type": "markdown",
   "id": "94c4e558",
   "metadata": {},
   "source": [
    "# 3. Write a Python program to find the area of a triangle?"
   ]
  },
  {
   "cell_type": "markdown",
   "id": "f8532a79",
   "metadata": {},
   "source": [
    "Ans:-"
   ]
  },
  {
   "cell_type": "code",
   "execution_count": 7,
   "id": "b0105875",
   "metadata": {},
   "outputs": [
    {
     "name": "stdout",
     "output_type": "stream",
     "text": [
      "Enter the base of the triangle: 10\n",
      "Enter the height of the triangle: 25\n",
      "Area of triangle of base: 10 and height: 25 is  125.0\n"
     ]
    }
   ],
   "source": [
    "Base = int(input(\"Enter the base of the triangle: \"))\n",
    "Height = int(input('Enter the height of the triangle: '))\n",
    "\n",
    "Area_of_triangle = (Base*Height)/2\n",
    "print(f'Area of triangle of base: {Base} and height: {Height} is  {Area_of_triangle}')"
   ]
  },
  {
   "cell_type": "markdown",
   "id": "44c3f5f1",
   "metadata": {},
   "source": [
    "# 4. Write a Python program to swap two variables?"
   ]
  },
  {
   "cell_type": "code",
   "execution_count": 8,
   "id": "e29f64dd",
   "metadata": {},
   "outputs": [
    {
     "name": "stdout",
     "output_type": "stream",
     "text": [
      "Enter first value: 25\n",
      "Enter second value: 50\n",
      "Varibale before swap first variable: 25 and second variable: 50\n",
      "variable after swap first variable is 50 and seconda variable: 25\n"
     ]
    }
   ],
   "source": [
    "Variable_1 = int(input(\"Enter first value: \"))\n",
    "Variable_2 = int(input('Enter second value: '))\n",
    "\n",
    "print(f\"Varibale before swap first variable: {Variable_1} and second variable: {Variable_2}\")\n",
    "\n",
    "Variable_1, Variable_2 = Variable_2, Variable_1\n",
    "\n",
    "print(f\"variable after swap first variable is {Variable_1} and seconda variable: {Variable_2}\")"
   ]
  },
  {
   "cell_type": "markdown",
   "id": "ae96ed91",
   "metadata": {},
   "source": [
    "# 5. Write a Python program to generate a random number?"
   ]
  },
  {
   "cell_type": "code",
   "execution_count": 9,
   "id": "f6da6ac2",
   "metadata": {},
   "outputs": [
    {
     "name": "stdout",
     "output_type": "stream",
     "text": [
      "6\n"
     ]
    }
   ],
   "source": [
    "import random\n",
    "print(random.randint(0,10))"
   ]
  }
 ],
 "metadata": {
  "kernelspec": {
   "display_name": "Python 3 (ipykernel)",
   "language": "python",
   "name": "python3"
  },
  "language_info": {
   "codemirror_mode": {
    "name": "ipython",
    "version": 3
   },
   "file_extension": ".py",
   "mimetype": "text/x-python",
   "name": "python",
   "nbconvert_exporter": "python",
   "pygments_lexer": "ipython3",
   "version": "3.9.7"
  }
 },
 "nbformat": 4,
 "nbformat_minor": 5
}
