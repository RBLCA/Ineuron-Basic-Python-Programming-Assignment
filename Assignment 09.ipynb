{
 "cells": [
  {
   "cell_type": "markdown",
   "id": "bece8c40",
   "metadata": {},
   "source": [
    "# 1. Write a Python program to check if the given number is a Disarium Number?"
   ]
  },
  {
   "cell_type": "markdown",
   "id": "d2481585",
   "metadata": {},
   "source": [
    "Ans:-\n",
    "    \n",
    "    A number is called Disarium if sum of its digits powered with their respectective position is equal to the number \n",
    "    itself."
   ]
  },
  {
   "cell_type": "code",
   "execution_count": 1,
   "id": "b9b67d5b",
   "metadata": {},
   "outputs": [
    {
     "name": "stdout",
     "output_type": "stream",
     "text": [
      "Enter the number: 135\n",
      "135 is disarium No.\n"
     ]
    }
   ],
   "source": [
    "def Disarium(Number):\n",
    "    count = 0\n",
    "    while(Number > 0):\n",
    "        l = len(str(Number))\n",
    "        no = Number%10\n",
    "        count = count + no**l\n",
    "        l -=1\n",
    "        Number = Number // 10\n",
    "    return count\n",
    "\n",
    "num = int(input('Enter the number: '))\n",
    "\n",
    "count = Disarium(num)\n",
    "if count == num:\n",
    "    print(num, \"is disarium No.\")\n",
    "else:\n",
    "    print(num, 'is not disarium No.')"
   ]
  },
  {
   "cell_type": "markdown",
   "id": "4dd7edd6",
   "metadata": {},
   "source": [
    "# 2. Write a Python program to print all disarium numbers between 1 to 100?"
   ]
  },
  {
   "cell_type": "code",
   "execution_count": 2,
   "id": "160dbc05",
   "metadata": {},
   "outputs": [
    {
     "name": "stdout",
     "output_type": "stream",
     "text": [
      "Disarium No. between 1 to 100\n",
      "[1, 2, 3, 4, 5, 6, 7, 8, 9, 89]\n"
     ]
    }
   ],
   "source": [
    "def disarium(num):\n",
    "    count = 0\n",
    "    while(num>0):\n",
    "        l = len(str(num))\n",
    "        no = num%10\n",
    "        count = count + no**l\n",
    "        l = l-1\n",
    "        num=num//10\n",
    "    return count\n",
    "\n",
    "print('Disarium No. between 1 to 100')\n",
    "\n",
    "disno_list = []\n",
    "\n",
    "for i in range(1,101):\n",
    "    count = 0\n",
    "    count = disarium(i)\n",
    "    if count == i:\n",
    "        disno_list.append(i)\n",
    "print(disno_list)"
   ]
  },
  {
   "cell_type": "markdown",
   "id": "d38fe9ca",
   "metadata": {},
   "source": [
    "# 3. Write a Python program to check if the given number is Happy Number?"
   ]
  },
  {
   "cell_type": "markdown",
   "id": "64c8cd32",
   "metadata": {},
   "source": [
    "Ans:\n",
    "    \n",
    "    A number is called happy if it leads to 1 after sequence of steps wherein each step number is replaced by the sum of\n",
    "    squares of its digit that is if we start with Happy Number and keep replacing it with  digits sqaure sum, we reach 1."
   ]
  },
  {
   "cell_type": "code",
   "execution_count": 10,
   "id": "92655b02",
   "metadata": {},
   "outputs": [
    {
     "name": "stdout",
     "output_type": "stream",
     "text": [
      "Enter the no: 55\n",
      "55 Is a Unhappy number\n"
     ]
    }
   ],
   "source": [
    "def Happy(num):\n",
    "    count = 0\n",
    "    while(num>0):\n",
    "        dig = num%10\n",
    "        count = count + dig**2\n",
    "        num = num//10\n",
    "    return count\n",
    "\n",
    "num = int(input('Enter the no: '))\n",
    "result = num\n",
    "\n",
    "while (result !=1 and result !=4):\n",
    "    result = Happy(result)\n",
    "    \n",
    "if result == 1:\n",
    "    print(num,'Is a happy number')\n",
    "else:\n",
    "    print(num, 'Is a Unhappy number')"
   ]
  },
  {
   "cell_type": "markdown",
   "id": "dd68d57d",
   "metadata": {},
   "source": [
    "# 4. Write a Python program to print all happy numbers between 1 and 100?"
   ]
  },
  {
   "cell_type": "code",
   "execution_count": 11,
   "id": "00f0221a",
   "metadata": {},
   "outputs": [
    {
     "name": "stdout",
     "output_type": "stream",
     "text": [
      "Happy number in range 1 to 100\n",
      "[1, 7, 10, 13, 19, 23, 28, 31, 32, 44, 49, 68, 70, 79, 82, 86, 91, 94, 97, 100]\n"
     ]
    }
   ],
   "source": [
    "def happy(num):\n",
    "    count = 0\n",
    "    while num > 0:\n",
    "        dig = num%10\n",
    "        count = count + dig**2\n",
    "        num = num//10\n",
    "    return count\n",
    "\n",
    "print('Happy number in range 1 to 100')\n",
    "result = num = i = 0\n",
    "happy_no = []\n",
    "for i in range(1,101):\n",
    "    result = i\n",
    "    while (result!=1 and result !=4):\n",
    "        result = happy(result)\n",
    "    if result == 1:\n",
    "        happy_no.append(i)\n",
    "    \n",
    "print(happy_no)"
   ]
  },
  {
   "cell_type": "markdown",
   "id": "2d315d93",
   "metadata": {},
   "source": [
    "# 5. Write a Python program to determine whether the given number is a Harshad Number?"
   ]
  },
  {
   "cell_type": "markdown",
   "id": "7b7e1e57",
   "metadata": {},
   "source": [
    "Ans: \n",
    "    \n",
    "    A Harshed no. is a no. is divisible by the sum of its digits, then it will be known as a Harshed number."
   ]
  },
  {
   "cell_type": "code",
   "execution_count": 12,
   "id": "193dd644",
   "metadata": {},
   "outputs": [
    {
     "name": "stdout",
     "output_type": "stream",
     "text": [
      "Enter a no: 55\n",
      "55 is not a Harshed number.\n"
     ]
    }
   ],
   "source": [
    "def harsh_no(num):\n",
    "    count = 0\n",
    "    while num>0:\n",
    "        dig = num%10\n",
    "        count = count + dig\n",
    "        num = num//10\n",
    "    return count\n",
    "\n",
    "num = int(input('Enter a no: '))\n",
    "count = harsh_no(num)\n",
    "\n",
    "if num % count == 0:\n",
    "    print(num, 'is a Harshed number.')\n",
    "else:\n",
    "    print(num, 'is not a Harshed number.')"
   ]
  },
  {
   "cell_type": "markdown",
   "id": "32f16c54",
   "metadata": {},
   "source": [
    "# 6. Write a Python program to print all pronic numbers between 1 and 100?"
   ]
  },
  {
   "cell_type": "markdown",
   "id": "99fc1ac1",
   "metadata": {},
   "source": [
    "Ans:-\n",
    "    \n",
    "    Pronic number is a number which is the product of two consecutive integers is called as pronic numbers."
   ]
  },
  {
   "cell_type": "code",
   "execution_count": 13,
   "id": "2cbfc712",
   "metadata": {},
   "outputs": [
    {
     "name": "stdout",
     "output_type": "stream",
     "text": [
      "Pronic numbers in range 1 to 100\n",
      "[2, 6, 12, 20, 30, 42, 56, 72, 90]\n"
     ]
    }
   ],
   "source": [
    "def pronic_no(num):\n",
    "    pronic = False\n",
    "    for i in range(1,num+1):\n",
    "        if i*(i+1) == num:\n",
    "            pronic = True\n",
    "            break\n",
    "    return pronic\n",
    "\n",
    "print('Pronic numbers in range 1 to 100')\n",
    "pronic_no_list = []\n",
    "for i in range(1, 101):\n",
    "    if pronic_no(i):\n",
    "        pronic_no_list.append(i)\n",
    "print(pronic_no_list)"
   ]
  }
 ],
 "metadata": {
  "kernelspec": {
   "display_name": "Python 3 (ipykernel)",
   "language": "python",
   "name": "python3"
  },
  "language_info": {
   "codemirror_mode": {
    "name": "ipython",
    "version": 3
   },
   "file_extension": ".py",
   "mimetype": "text/x-python",
   "name": "python",
   "nbconvert_exporter": "python",
   "pygments_lexer": "ipython3",
   "version": "3.9.7"
  }
 },
 "nbformat": 4,
 "nbformat_minor": 5
}
