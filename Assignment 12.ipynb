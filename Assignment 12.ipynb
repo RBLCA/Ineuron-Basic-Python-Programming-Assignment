{
 "cells": [
  {
   "cell_type": "markdown",
   "id": "0626891c",
   "metadata": {},
   "source": [
    "# 1. Write a Python program to Extract Unique values dictionary values?"
   ]
  },
  {
   "cell_type": "code",
   "execution_count": 1,
   "id": "66dea921",
   "metadata": {},
   "outputs": [
    {
     "name": "stdout",
     "output_type": "stream",
     "text": [
      "The unique values of dictionary are: {32.53, 1, 2, 3, 4, 32, 232, 'rohit', 'ineuron', (4+3j), 23}\n"
     ]
    }
   ],
   "source": [
    "d1 = {'a': [1,2,3,'rohit', 23,23],\n",
    "      'b': [3,2,1,4,'ineuron', 232],\n",
    "      'c': [32.53, 32, 32, 4+3j, 23]}\n",
    "\n",
    "l = []\n",
    "for i in d1.values():\n",
    "    for j in i:\n",
    "        l.append(j)\n",
    "print(f'The unique values of dictionary are: {set(l)}')"
   ]
  },
  {
   "cell_type": "markdown",
   "id": "466f1e71",
   "metadata": {},
   "source": [
    "# 2. Write a Python program to find the sum of all items in a dictionary?"
   ]
  },
  {
   "cell_type": "code",
   "execution_count": 2,
   "id": "d6585ec7",
   "metadata": {},
   "outputs": [],
   "source": [
    "d2 = {'a': 32, 'b': 232, 'c': 21, 'd': 323, 'e': 323.2}"
   ]
  },
  {
   "cell_type": "code",
   "execution_count": 3,
   "id": "76727ef7",
   "metadata": {},
   "outputs": [
    {
     "name": "stdout",
     "output_type": "stream",
     "text": [
      "The sum of items in dictionary is: 931.2\n"
     ]
    }
   ],
   "source": [
    "summation = 0\n",
    "for i in d2.values():\n",
    "    summation = summation + i\n",
    "print(f'The sum of items in dictionary is: {summation}')"
   ]
  },
  {
   "cell_type": "markdown",
   "id": "22edbf05",
   "metadata": {},
   "source": [
    "# 3. Write a Python program to Merging two Dictionaries?"
   ]
  },
  {
   "cell_type": "code",
   "execution_count": 4,
   "id": "e3f7a72e",
   "metadata": {},
   "outputs": [
    {
     "data": {
      "text/plain": [
       "{'a': [1, 2, 3, 'rohit', 23, 23],\n",
       " 'b': [3, 2, 1, 4, 'ineuron', 232],\n",
       " 'c': [32.53, 32, 32, (4+3j), 23]}"
      ]
     },
     "execution_count": 4,
     "metadata": {},
     "output_type": "execute_result"
    }
   ],
   "source": [
    "d1"
   ]
  },
  {
   "cell_type": "code",
   "execution_count": 5,
   "id": "e6836f6e",
   "metadata": {},
   "outputs": [
    {
     "data": {
      "text/plain": [
       "{'d': 32, 'e': 232, 'f': 323.2, 'g': 323}"
      ]
     },
     "execution_count": 5,
     "metadata": {},
     "output_type": "execute_result"
    }
   ],
   "source": [
    "d2 = {'d': 32, 'e': 232, 'f': 21, 'g': 323, 'f': 323.2}\n",
    "d2"
   ]
  },
  {
   "cell_type": "code",
   "execution_count": 6,
   "id": "6b849a80",
   "metadata": {},
   "outputs": [
    {
     "name": "stdout",
     "output_type": "stream",
     "text": [
      "updated dictionary: {'a': [1, 2, 3, 'rohit', 23, 23], 'b': [3, 2, 1, 4, 'ineuron', 232], 'c': [32.53, 32, 32, (4+3j), 23], 'd': 32, 'e': 232, 'f': 323.2, 'g': 323}\n"
     ]
    }
   ],
   "source": [
    "updated_dictionary = d1.update(d2)\n",
    "print(f'updated dictionary: {d1}')"
   ]
  },
  {
   "cell_type": "markdown",
   "id": "61ad376b",
   "metadata": {},
   "source": [
    "# 4. Write a Python program to convert key-values list to flat dictionary?"
   ]
  },
  {
   "cell_type": "code",
   "execution_count": 7,
   "id": "5861ed05",
   "metadata": {},
   "outputs": [
    {
     "name": "stdout",
     "output_type": "stream",
     "text": [
      "Original dictionaries: {'Year': [2021, 2022, 2023], 'Month': ['Jan', 'Feb', 'March']}\n",
      "The flat dictionary: {2021: 'Jan', 2022: 'Feb', 2023: 'March'}\n"
     ]
    }
   ],
   "source": [
    "test_dic = {'Year': [2021,2022,2023],\n",
    "            'Month':['Jan', 'Feb', \"March\"]}\n",
    "\n",
    "con = dict(zip(test_dic['Year'], test_dic['Month']))\n",
    "print(f'Original dictionaries: {test_dic}')\n",
    "print(f'The flat dictionary: {con}')"
   ]
  },
  {
   "cell_type": "markdown",
   "id": "7608883a",
   "metadata": {},
   "source": [
    "# 5. Write a Python program to insertion at the beginning in OrderedDict?"
   ]
  },
  {
   "cell_type": "code",
   "execution_count": 8,
   "id": "404dc31d",
   "metadata": {},
   "outputs": [
    {
     "name": "stdout",
     "output_type": "stream",
     "text": [
      "The ordered dictionary: OrderedDict([('Mar', '23'), ('June', '23'), ('Oct', '27')])\n"
     ]
    }
   ],
   "source": [
    "from collections import OrderedDict\n",
    "\n",
    "inordered_dict = OrderedDict([('June','23'),('Oct','27')])\n",
    "\n",
    "inordered_dict.update({'Mar':'23'})\n",
    "inordered_dict.move_to_end('Mar', last = False)\n",
    "\n",
    "print(f'The ordered dictionary: {inordered_dict}')"
   ]
  },
  {
   "cell_type": "markdown",
   "id": "18c6f80e",
   "metadata": {},
   "source": [
    "# 6. Write a Python program to check order of character in string using OrderedDict()?"
   ]
  },
  {
   "cell_type": "code",
   "execution_count": 9,
   "id": "f42fe7cd",
   "metadata": {},
   "outputs": [
    {
     "name": "stdout",
     "output_type": "stream",
     "text": [
      "Enter a string: ineuron\n",
      "Enter a pattern: en\n",
      "OrderedDict([('i', None), ('n', None), ('e', None), ('u', None), ('r', None), ('o', None)])\n",
      "Pattern not matched\n"
     ]
    }
   ],
   "source": [
    "from collections import OrderedDict\n",
    "\n",
    "def check_order_string(str,pattern):\n",
    "    dict = OrderedDict.fromkeys(str)\n",
    "    print(dict)\n",
    "    ptrnlen = 0\n",
    "    for i , j in dict.items():\n",
    "        if (i == pattern[ptrnlen]):\n",
    "            ptrnlen = ptrnlen + 1\n",
    "        if (ptrnlen == (len(pattern))):\n",
    "            return 'True'\n",
    "    return False\n",
    "\n",
    "string = input('Enter a string: ')\n",
    "pattern = input('Enter a pattern: ')\n",
    "if check_order_string(string, pattern):\n",
    "    print('pattern matched')\n",
    "else:\n",
    "    print('Pattern not matched')"
   ]
  },
  {
   "cell_type": "markdown",
   "id": "360a75c8",
   "metadata": {},
   "source": [
    "# 7. Write a Python program to sort Python Dictionaries by Key or Value?"
   ]
  },
  {
   "cell_type": "code",
   "execution_count": 10,
   "id": "747cdfec",
   "metadata": {},
   "outputs": [
    {
     "name": "stdout",
     "output_type": "stream",
     "text": [
      "[1, 2, 3, 4, 7, 11]\n",
      "[(1, 11), (2, 22), (3, 33), (4, 44), (7, 34), (11, 21)]\n"
     ]
    }
   ],
   "source": [
    "d1 = {1:11, 11:21, 7: 34, 2:22, 3:33, 4:44}\n",
    "print(sorted(d1.keys()))\n",
    "print(sorted(d1.items()))"
   ]
  },
  {
   "cell_type": "code",
   "execution_count": 11,
   "id": "fae770d8",
   "metadata": {},
   "outputs": [
    {
     "name": "stdout",
     "output_type": "stream",
     "text": [
      "[11, 21, 22, 33, 34, 44]\n"
     ]
    }
   ],
   "source": [
    "d2 = {1:11, 11:21, 7: 34, 2:22, 3:33, 4:44}\n",
    "print(sorted(d2.values()))"
   ]
  }
 ],
 "metadata": {
  "kernelspec": {
   "display_name": "Python 3 (ipykernel)",
   "language": "python",
   "name": "python3"
  },
  "language_info": {
   "codemirror_mode": {
    "name": "ipython",
    "version": 3
   },
   "file_extension": ".py",
   "mimetype": "text/x-python",
   "name": "python",
   "nbconvert_exporter": "python",
   "pygments_lexer": "ipython3",
   "version": "3.9.7"
  }
 },
 "nbformat": 4,
 "nbformat_minor": 5
}
