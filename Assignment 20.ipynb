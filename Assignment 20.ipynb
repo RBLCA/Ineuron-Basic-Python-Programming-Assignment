{
 "cells": [
  {
   "cell_type": "markdown",
   "id": "f90085d5",
   "metadata": {},
   "source": [
    "# Question1\n",
    "# Create a function that takes a list of strings and integers, and filters out the list so that it returns a list of integers only.\n",
    "\n",
    "Examples\n",
    "\n",
    "filter_list([1, 2, 3, \"a\", \"b\", 4]) ➞ [1, 2, 3, 4]\n",
    "\n",
    "filter_list([\"A\", 0, \"Edabit\", 1729, \"Python\", \"1729\"]) ➞ [0, 1729]\n",
    "\n",
    "filter_list([\"Nothing\", \"here\"]) ➞ []"
   ]
  },
  {
   "cell_type": "code",
   "execution_count": 1,
   "id": "d1b0a51f",
   "metadata": {},
   "outputs": [
    {
     "name": "stdout",
     "output_type": "stream",
     "text": [
      "[1, 2, 3, 4]\n",
      "[0, 1729]\n",
      "[]\n"
     ]
    }
   ],
   "source": [
    "def int_list(a):\n",
    "    filter_list = []\n",
    "    for i in a:\n",
    "        if type(i) == int:\n",
    "            filter_list.append(i)\n",
    "    return filter_list\n",
    "\n",
    "print(int_list([1, 2, 3, \"a\", \"b\", 4]))\n",
    "print(int_list([\"A\", 0, \"Edabit\", 1729, \"Python\", \"1729\"]))\n",
    "print(int_list([\"Nothing\", \"here\"]))"
   ]
  },
  {
   "cell_type": "markdown",
   "id": "42d08fd5",
   "metadata": {},
   "source": [
    "# Question2\n",
    "# Given a list of numbers, create a function which returns the list but with each element's index in the list added to itself. This means you add 0 to the number at index 0, add 1 to the number at index 1, etc...\n",
    "\n",
    "Examples\n",
    "\n",
    "add_indexes([0, 0, 0, 0, 0]) ➞ [0, 1, 2, 3, 4]\n",
    "\n",
    "add_indexes([1, 2, 3, 4, 5]) ➞ [1, 3, 5, 7, 9]\n",
    "\n",
    "add_indexes([5, 4, 3, 2, 1]) ➞ [5, 5, 5, 5, 5]"
   ]
  },
  {
   "cell_type": "code",
   "execution_count": 2,
   "id": "3e0220ff",
   "metadata": {
    "scrolled": true
   },
   "outputs": [
    {
     "name": "stdout",
     "output_type": "stream",
     "text": [
      "[0, 1, 2, 3, 4]\n",
      "[1, 3, 5, 7, 9]\n",
      "[5, 5, 5, 5, 5]\n"
     ]
    }
   ],
   "source": [
    "def index_add(l):\n",
    "    l1 = []\n",
    "    indx = 0\n",
    "    for i in l:\n",
    "        l1.append(l.index(i,indx) + i)\n",
    "        indx = indx + 1\n",
    "    return l1\n",
    "\n",
    "print(index_add([0, 0, 0, 0, 0]))\n",
    "print(index_add([1, 2, 3, 4, 5]))\n",
    "print(index_add([5, 4, 3, 2, 1]))"
   ]
  },
  {
   "cell_type": "markdown",
   "id": "39daaab8",
   "metadata": {},
   "source": [
    "# Question3\n",
    "\n",
    "# Create a function that takes the height and radius of a cone as arguments and returns the volume of the cone rounded to the nearest hundredth. See the resources tab for the formula.\n",
    " \n",
    "Examples\n",
    "\n",
    "cone_volume(3, 2) ➞ 12.57\n",
    "\n",
    "cone_volume(15, 6) ➞ 565.49\n",
    "\n",
    "cone_volume(18, 0) ➞ 0"
   ]
  },
  {
   "cell_type": "code",
   "execution_count": 3,
   "id": "ed9b48be",
   "metadata": {},
   "outputs": [
    {
     "name": "stdout",
     "output_type": "stream",
     "text": [
      "Enter height: 3\n",
      "Enter radius: 2\n",
      "Volume of Cone having radius 2.0 and height 3.0 is 13\n"
     ]
    }
   ],
   "source": [
    "import math\n",
    "\n",
    "def cone_volume(height, radius):\n",
    "    volume = math.pi * (radius**2) * (height/3)\n",
    "    return round(volume)\n",
    "\n",
    "height = float(input('Enter height: '))\n",
    "radius = float(input('Enter radius: '))\n",
    "\n",
    "print(f'Volume of Cone having radius {radius} and height {height} is {cone_volume(height,radius)}')"
   ]
  },
  {
   "cell_type": "markdown",
   "id": "900f3532",
   "metadata": {},
   "source": [
    "# Question4\n",
    "# This Triangular Number Sequence is generated from a pattern of dots that form a triangle. The first 5 numbers of the sequence, or dots, are: \n",
    "# 1, 3, 6, 10, 15\n",
    "# This means that the first triangle has just one dot, the second one has three dots, the third one has 6 dots and so on.\n",
    "# Write a function that gives the number of dots with its corresponding triangle number of the sequence.\n",
    "\n",
    "Examples\n",
    "\n",
    "triangle(1) ➞ 1\n",
    "\n",
    "triangle(6) ➞ 21\n",
    "\n",
    "triangle(215) ➞ 23220"
   ]
  },
  {
   "cell_type": "code",
   "execution_count": 4,
   "id": "df5fdda8",
   "metadata": {},
   "outputs": [
    {
     "name": "stdout",
     "output_type": "stream",
     "text": [
      "Enter the triangle number: 215\n",
      "The 215th trianglhe has 23220 dots\n"
     ]
    }
   ],
   "source": [
    "def triangle(a):\n",
    "    return a*(a+1)*0.5\n",
    "\n",
    "a = int(input('Enter the triangle number: '))\n",
    "print(f'The {a}th trianglhe has {int(triangle(a))} dots')"
   ]
  },
  {
   "cell_type": "code",
   "execution_count": 5,
   "id": "dfbae882",
   "metadata": {},
   "outputs": [
    {
     "data": {
      "text/plain": [
       "21.0"
      ]
     },
     "execution_count": 5,
     "metadata": {},
     "output_type": "execute_result"
    }
   ],
   "source": [
    "triangle(6)"
   ]
  },
  {
   "cell_type": "markdown",
   "id": "8942bbc2",
   "metadata": {},
   "source": [
    "# Question5\n",
    "# Create a function that takes a list of numbers between 1 and 10 (excluding one number) and returns the missing number.\n",
    "\n",
    "Examples\n",
    "\n",
    "missing_num([1, 2, 3, 4, 6, 7, 8, 9, 10]) ➞ 5\n",
    "\n",
    "missing_num([7, 2, 3, 6, 5, 9, 1, 4, 8]) ➞ 10\n",
    "\n",
    "missing_num([10, 5, 1, 2, 4, 6, 8, 3, 9]) ➞ 7"
   ]
  },
  {
   "cell_type": "code",
   "execution_count": 6,
   "id": "15155632",
   "metadata": {},
   "outputs": [
    {
     "name": "stdout",
     "output_type": "stream",
     "text": [
      "5\n",
      "10\n",
      "7\n"
     ]
    }
   ],
   "source": [
    "def find_misno(l):\n",
    "    sumation = []\n",
    "    for i in range(11):\n",
    "        sumation.append(i)\n",
    "    sum_list = sum(l)\n",
    "    return sum(sumation) - sum_list\n",
    "\n",
    "print(find_misno([1, 2, 3, 4, 6, 7, 8, 9, 10]))\n",
    "print(find_misno([7, 2, 3, 6, 5, 9, 1, 4, 8]))\n",
    "print(find_misno([10, 5, 1, 2, 4, 6, 8, 3, 9]))"
   ]
  }
 ],
 "metadata": {
  "kernelspec": {
   "display_name": "Python 3 (ipykernel)",
   "language": "python",
   "name": "python3"
  },
  "language_info": {
   "codemirror_mode": {
    "name": "ipython",
    "version": 3
   },
   "file_extension": ".py",
   "mimetype": "text/x-python",
   "name": "python",
   "nbconvert_exporter": "python",
   "pygments_lexer": "ipython3",
   "version": "3.9.7"
  }
 },
 "nbformat": 4,
 "nbformat_minor": 5
}
