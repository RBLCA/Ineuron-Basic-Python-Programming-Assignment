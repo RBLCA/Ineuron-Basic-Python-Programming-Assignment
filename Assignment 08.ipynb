{
 "cells": [
  {
   "cell_type": "markdown",
   "id": "3ac57372",
   "metadata": {},
   "source": [
    "# 1. Write a Python Program to Add Two Matrices?"
   ]
  },
  {
   "cell_type": "code",
   "execution_count": 1,
   "id": "e21a0a04",
   "metadata": {},
   "outputs": [
    {
     "name": "stdout",
     "output_type": "stream",
     "text": [
      "The Sum of two matrix \n",
      "\n",
      "[[1 2 3]\n",
      " [4 5 6]\n",
      " [7 8 9]] and \n",
      "\n",
      "[[10 11 12]\n",
      " [13 14 15]\n",
      " [16 17 18]] is \n",
      "\n",
      "[[11 13 15]\n",
      " [17 19 21]\n",
      " [23 25 27]]\n"
     ]
    }
   ],
   "source": [
    "import numpy as np\n",
    "mat1 = np.array([[1,2,3],\n",
    "        [4,5,6],\n",
    "        [7,8,9]])\n",
    "\n",
    "mat2 = np.array([[10,11,12],\n",
    "                [13,14,15],\n",
    "                [16,17,18]])\n",
    "\n",
    "summation = np.add(mat1, mat2)\n",
    "print(f'The Sum of two matrix \\n\\n{mat1} and \\n\\n{mat2} is \\n\\n{summation}')"
   ]
  },
  {
   "cell_type": "markdown",
   "id": "6c9d11da",
   "metadata": {},
   "source": [
    "# 2. Write a Python Program to Multiply Two Matrices?"
   ]
  },
  {
   "cell_type": "code",
   "execution_count": 2,
   "id": "feaf15f4",
   "metadata": {},
   "outputs": [
    {
     "name": "stdout",
     "output_type": "stream",
     "text": [
      "The multiplication of two matrix \n",
      "\n",
      "[[1 2 3]\n",
      " [4 5 6]\n",
      " [7 8 9]] and \n",
      "\n",
      "[[10 11 12]\n",
      " [13 14 15]\n",
      " [16 17 18]] is \n",
      "\n",
      "[[ 84  90  96]\n",
      " [201 216 231]\n",
      " [318 342 366]]\n"
     ]
    }
   ],
   "source": [
    "mat1 = np.array([[1,2,3],\n",
    "        [4,5,6],\n",
    "        [7,8,9]])\n",
    "\n",
    "mat2 = np.array([[10,11,12],\n",
    "                [13,14,15],\n",
    "                [16,17,18]])\n",
    "\n",
    "Multiplication = np.dot(mat1, mat2)\n",
    "print(f'The multiplication of two matrix \\n\\n{mat1} and \\n\\n{mat2} is \\n\\n{Multiplication}')"
   ]
  },
  {
   "cell_type": "markdown",
   "id": "1543499a",
   "metadata": {},
   "source": [
    "# 3. Write a Python Program to Transpose a Matrix?"
   ]
  },
  {
   "cell_type": "code",
   "execution_count": 3,
   "id": "53f7034f",
   "metadata": {},
   "outputs": [
    {
     "name": "stdout",
     "output_type": "stream",
     "text": [
      "Result matrix is\n",
      "1  5  9  13  \n",
      "5  6  10  14  \n",
      "9  10  11  15  \n",
      "13  14  15  16  \n"
     ]
    }
   ],
   "source": [
    "No = 4\n",
    "def tranpose(A,B):\n",
    "    for i in range(No):\n",
    "        for j in range(No):\n",
    "            B[i][j] = A[j][i]\n",
    "            \n",
    "A = [[1,2,3,4],\n",
    "    [5,6,7,8],\n",
    "    [9,10,11,12],\n",
    "    [13,14,15,16]]\n",
    "\n",
    "B = A[:][:]\n",
    "\n",
    "tranpose(A,B)\n",
    "print('Result matrix is')\n",
    "for i in range(No):\n",
    "    for j in range(No):\n",
    "        print(B[i][j],   \" \", end = '')\n",
    "    print()"
   ]
  },
  {
   "cell_type": "markdown",
   "id": "f24dfe2b",
   "metadata": {},
   "source": [
    "# 4. Write a Python Program to Sort Words in Alphabetic Order?"
   ]
  },
  {
   "cell_type": "code",
   "execution_count": 4,
   "id": "34b08135",
   "metadata": {},
   "outputs": [
    {
     "name": "stdout",
     "output_type": "stream",
     "text": [
      "Enter a string:towards the journey of data scientist.\n",
      "data\n",
      "journey\n",
      "of\n",
      "scientist.\n",
      "the\n",
      "towards\n"
     ]
    }
   ],
   "source": [
    "string= input('Enter a string:')\n",
    "\n",
    "word = string.split()\n",
    "word.sort()\n",
    "for i in word:\n",
    "    print(i)"
   ]
  },
  {
   "cell_type": "markdown",
   "id": "2b40ac3b",
   "metadata": {},
   "source": [
    "# 5. Write a Python Program to Remove Punctuation From a String?"
   ]
  },
  {
   "cell_type": "code",
   "execution_count": 5,
   "id": "af63e1c3",
   "metadata": {},
   "outputs": [
    {
     "name": "stdout",
     "output_type": "stream",
     "text": [
      "enter a string with punctuation: let's check #@#$^@#$@#^^ * \" is working\n",
      "lets check    is working\n"
     ]
    }
   ],
   "source": [
    "Punctuation = '''!()-[]{};:'\"\\,<>./?@#$%^&*_~'''\n",
    "\n",
    "string = input('enter a string with punctuation: ')\n",
    "\n",
    "removed = \"\"\n",
    "for i in string:\n",
    "    if i not in Punctuation:\n",
    "        removed = removed + i\n",
    "print(removed)"
   ]
  }
 ],
 "metadata": {
  "kernelspec": {
   "display_name": "Python 3 (ipykernel)",
   "language": "python",
   "name": "python3"
  },
  "language_info": {
   "codemirror_mode": {
    "name": "ipython",
    "version": 3
   },
   "file_extension": ".py",
   "mimetype": "text/x-python",
   "name": "python",
   "nbconvert_exporter": "python",
   "pygments_lexer": "ipython3",
   "version": "3.9.7"
  }
 },
 "nbformat": 4,
 "nbformat_minor": 5
}
