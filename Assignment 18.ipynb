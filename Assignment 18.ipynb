{
 "cells": [
  {
   "cell_type": "markdown",
   "id": "36c3fcb7",
   "metadata": {},
   "source": [
    "# Question 1\n",
    "# Create a function that takes a list of non-negative integers and strings and return a new list without the strings.\n",
    "\n",
    "Examples\n",
    "\n",
    "filter_list([1, 2, \"a\", \"b\"]) ➞ [1, 2]\n",
    "\n",
    "filter_list([1, \"a\", \"b\", 0, 15]) ➞ [1, 0, 15]\n",
    "\n",
    "filter_list([1, 2, \"aasf\", \"1\", \"123\", 123]) ➞ [1, 2, 123]\n"
   ]
  },
  {
   "cell_type": "code",
   "execution_count": 1,
   "id": "97c2d683",
   "metadata": {},
   "outputs": [
    {
     "name": "stdout",
     "output_type": "stream",
     "text": [
      "[1, 2]\n",
      "[1, 0, 15]\n",
      "[1, 2, 123]\n"
     ]
    }
   ],
   "source": [
    "l = [1,2,\"a\",\"b\"]\n",
    "l1 = [1,\"a\",\"b\",0,15]\n",
    "l3 = [1,2,\"aasf\",\"1\",\"123\",123]\n",
    "\n",
    "def filter_list(l):\n",
    "    filterList = []\n",
    "    for i in l:\n",
    "        if type(i) == int:\n",
    "            filterList.append(i)\n",
    "    return filterList\n",
    "\n",
    "print(filter_list(l))\n",
    "print(filter_list(l1))\n",
    "print(filter_list(l3))"
   ]
  },
  {
   "cell_type": "markdown",
   "id": "3833e55a",
   "metadata": {},
   "source": [
    "# Question 2\n",
    "# The \"Reverser\" takes a string as input and returns that string in reverse order, with the opposite case.\n",
    "\n",
    "Examples\n",
    "\n",
    "reverse(\"Hello World\") ➞ \"DLROw OLLEh\"\n",
    "\n",
    "reverse(\"ReVeRsE\") ➞ \"eSrEvEr\"\n",
    "\n",
    "reverse(\"Radar\") ➞ \"RADAr\""
   ]
  },
  {
   "cell_type": "code",
   "execution_count": 2,
   "id": "52dda493",
   "metadata": {},
   "outputs": [
    {
     "name": "stdout",
     "output_type": "stream",
     "text": [
      "Please enter string: Hello World\n",
      "The updated string in reverse order, with the opposite case.: DLROw OLLEh\n"
     ]
    }
   ],
   "source": [
    "string1 = input('Please enter string: ')\n",
    "string1 = string1.swapcase()\n",
    "\n",
    "def New_string(string1):\n",
    "    \n",
    "    return string1[::-1]\n",
    "\n",
    "print(f'The updated string in reverse order, with the opposite case.: {New_string(string1)}')"
   ]
  },
  {
   "cell_type": "markdown",
   "id": "61a2cb77",
   "metadata": {},
   "source": [
    "# Question 3\n",
    "# You can assign variables from lists like this:\n",
    "\n",
    "lst = [1, 2, 3, 4, 5, 6]\n",
    "\n",
    "first = lst[0]\n",
    "\n",
    "middle = lst[1:-1]\n",
    "\n",
    "last = lst[-1]\n",
    "\n",
    "\n",
    "print(first) ➞ outputs 1\n",
    "\n",
    "print(middle) ➞ outputs [2, 3, 4, 5]\n",
    "\n",
    "print(last) ➞ outputs 6\n",
    "\n",
    "# With Python 3, you can assign variables from lists in a much more succinct way. Create variables first, middle and last from the given list using destructuring assignment (check the Resources tab for some examples), where:\n",
    "\n",
    "first  ➞ 1\n",
    "\n",
    "middle ➞ [2, 3, 4, 5]\n",
    "\n",
    "last ➞ 6\n",
    "\n",
    "Your task is to unpack the list writeyourcodehere into three variables, being first, middle, and last, with middle being everything in between the first and last element. Then print all three variables."
   ]
  },
  {
   "cell_type": "code",
   "execution_count": 3,
   "id": "eade1112",
   "metadata": {},
   "outputs": [
    {
     "data": {
      "text/plain": [
       "[2, 3, 4]"
      ]
     },
     "execution_count": 3,
     "metadata": {},
     "output_type": "execute_result"
    }
   ],
   "source": [
    "lst = [1,2,3,4,5]\n",
    "first, *middle, last = lst\n",
    "middle"
   ]
  },
  {
   "cell_type": "code",
   "execution_count": 4,
   "id": "ddec9756",
   "metadata": {},
   "outputs": [
    {
     "data": {
      "text/plain": [
       "1"
      ]
     },
     "execution_count": 4,
     "metadata": {},
     "output_type": "execute_result"
    }
   ],
   "source": [
    "first"
   ]
  },
  {
   "cell_type": "code",
   "execution_count": 5,
   "id": "8c09e958",
   "metadata": {},
   "outputs": [
    {
     "data": {
      "text/plain": [
       "5"
      ]
     },
     "execution_count": 5,
     "metadata": {},
     "output_type": "execute_result"
    }
   ],
   "source": [
    "last"
   ]
  },
  {
   "cell_type": "markdown",
   "id": "860994a6",
   "metadata": {},
   "source": [
    "# Question 4\n",
    "# Write a function that calculates the factorial of a number recursively.\n",
    "\n",
    "Examples\n",
    "\n",
    "factorial(5) ➞ 120\n",
    "\n",
    "factorial(3) ➞ 6\n",
    "\n",
    "factorial(1) ➞ 1\n",
    "\n",
    "factorial(0) ➞ 1"
   ]
  },
  {
   "cell_type": "code",
   "execution_count": 6,
   "id": "a6ee5c45",
   "metadata": {},
   "outputs": [
    {
     "name": "stdout",
     "output_type": "stream",
     "text": [
      "Please enter a no: 10\n",
      "Factorial of a 10 is 3628800\n"
     ]
    }
   ],
   "source": [
    "def factorial(n):\n",
    "    if n == 0:\n",
    "        return 1\n",
    "    return n * factorial(n-1)\n",
    "\n",
    "n = int(input(\"Please enter a no: \"))\n",
    "print(f'Factorial of a {n} is {factorial(n)}')"
   ]
  },
  {
   "cell_type": "markdown",
   "id": "e6f872a8",
   "metadata": {},
   "source": [
    "# Question 5\n",
    "# Write a function that moves all elements of one type to the end of the list.\n",
    "\n",
    "Examples\n",
    "\n",
    "move_to_end([1, 3, 2, 4, 4, 1], 1) ➞ [3, 2, 4, 4, 1, 1]\n",
    "\n",
    "Move all the 1s to the end of the array.\n",
    "\n",
    "move_to_end([7, 8, 9, 1, 2, 3, 4], 9) ➞ [7, 8, 1, 2, 3, 4, 9]\n",
    "\n",
    "move_to_end([\"a\", \"a\", \"a\", \"b\"], \"a\") ➞ [\"b\", \"a\", \"a\", \"a\"]"
   ]
  },
  {
   "cell_type": "code",
   "execution_count": 7,
   "id": "32836289",
   "metadata": {},
   "outputs": [],
   "source": [
    "def move_to_end(array, toMove):\n",
    "     \n",
    "    i = 0\n",
    " \n",
    "    \n",
    "    j = len(array) - 1\n",
    "  \n",
    "   \n",
    "    while (i < j):\n",
    "  \n",
    "        while (i < j and array[j] == toMove):\n",
    "  \n",
    "           \n",
    "            j-=1\n",
    "  \n",
    "        if (array[i] == toMove):\n",
    "  \n",
    "            # swap the two elements\n",
    "            # in the array\n",
    "            array[i], array[j] = array[j] , array[i]\n",
    "  \n",
    "       \n",
    "        i += 1\n",
    "  \n",
    "    # return the result\n",
    "    return array"
   ]
  },
  {
   "cell_type": "code",
   "execution_count": 8,
   "id": "b4991ed2",
   "metadata": {},
   "outputs": [
    {
     "name": "stdout",
     "output_type": "stream",
     "text": [
      "7 8 4 1 2 3 9 "
     ]
    }
   ],
   "source": [
    "l1 = [7,8,9,1,2,3,4]\n",
    "a = 9\n",
    "ans = move_to_end(l1,a)\n",
    "for i in range(len(l1)):\n",
    "    print(ans[i], end = \" \")"
   ]
  },
  {
   "cell_type": "code",
   "execution_count": 9,
   "id": "d8eb0400",
   "metadata": {},
   "outputs": [
    {
     "name": "stdout",
     "output_type": "stream",
     "text": [
      "b a a a "
     ]
    }
   ],
   "source": [
    "l2 = [\"a\", \"a\", \"a\", \"b\"]\n",
    "a = \"a\"\n",
    "ans = move_to_end(l2,a)\n",
    "for i in range(len(l2)):\n",
    "    print(ans[i], end = \" \")"
   ]
  }
 ],
 "metadata": {
  "kernelspec": {
   "display_name": "Python 3 (ipykernel)",
   "language": "python",
   "name": "python3"
  },
  "language_info": {
   "codemirror_mode": {
    "name": "ipython",
    "version": 3
   },
   "file_extension": ".py",
   "mimetype": "text/x-python",
   "name": "python",
   "nbconvert_exporter": "python",
   "pygments_lexer": "ipython3",
   "version": "3.9.7"
  }
 },
 "nbformat": 4,
 "nbformat_minor": 5
}
