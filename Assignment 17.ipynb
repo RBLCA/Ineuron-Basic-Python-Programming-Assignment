{
 "cells": [
  {
   "cell_type": "markdown",
   "id": "414a1177",
   "metadata": {},
   "source": [
    "# Question1. Create a function that takes three arguments a, b, c and returns the sum of the numbers that are evenly divided by c from the range a, b inclusive.\n",
    "\n",
    "Examples\n",
    "\n",
    "evenly_divisible(1, 10, 20) ➞ 0\n",
    "\n",
    "No number between 1 and 10 can be evenly divided by 20.\n",
    "\n",
    "evenly_divisible(1, 10, 2) ➞ 30\n",
    "\n",
    "2 + 4 + 6 + 8 + 10 = 30\n",
    "\n",
    "evenly_divisible(1, 10, 3) ➞ 18\n",
    "\n",
    "3 + 6 + 9 = 18"
   ]
  },
  {
   "cell_type": "code",
   "execution_count": 2,
   "id": "160f3910",
   "metadata": {},
   "outputs": [
    {
     "name": "stdout",
     "output_type": "stream",
     "text": [
      "Enter value of a: 1\n",
      "Enter value of b: 10\n",
      "Enter value of c: 2\n"
     ]
    },
    {
     "data": {
      "text/plain": [
       "30"
      ]
     },
     "execution_count": 2,
     "metadata": {},
     "output_type": "execute_result"
    }
   ],
   "source": [
    "def sum_divide(a,b,c):\n",
    "    sumation = 0\n",
    "    for i in range(a, b+1):\n",
    "        if i % c == 0:\n",
    "            sumation += i\n",
    "            continue\n",
    "            \n",
    "    return sumation\n",
    "a = int(input('Enter value of a: '))\n",
    "b = int(input('Enter value of b: '))\n",
    "c = int(input('Enter value of c: '))\n",
    "\n",
    "sum_divide(a,b,c)"
   ]
  },
  {
   "cell_type": "markdown",
   "id": "9aa588ac",
   "metadata": {},
   "source": [
    "# Question2. Create a function that returns True if a given inequality expression is correct and False otherwise.\n",
    "\n",
    "Examples\n",
    "\n",
    "correct_signs(\"3 < 7 < 11\") ➞ True\n",
    "\n",
    "correct_signs(\"13 > 44 > 33 > 1\") ➞ False\n",
    "\n",
    "correct_signs(\"1 < 2 < 6 < 9 > 3\") ➞ True"
   ]
  },
  {
   "cell_type": "code",
   "execution_count": 3,
   "id": "b690f010",
   "metadata": {},
   "outputs": [
    {
     "name": "stdout",
     "output_type": "stream",
     "text": [
      "True\n",
      "False\n",
      "True\n"
     ]
    }
   ],
   "source": [
    "def correct_sign(txt):\n",
    "    return eval(txt)\n",
    "\n",
    "print(correct_sign(\"3 < 7 < 11\"))\n",
    "print(correct_sign(\"13 > 44 > 33 > 1\"))\n",
    "print(correct_sign(\"1 < 2 < 6 < 9 > 3\"))"
   ]
  },
  {
   "cell_type": "markdown",
   "id": "6995652c",
   "metadata": {},
   "source": [
    "# Question3. Create a function that replaces all the vowels in a string with a specified character.\n",
    "\n",
    "Examples\n",
    "\n",
    "replace_vowels(\"the aardvark\", \"#\") ➞ \"th# ##rdv#rk\"\n",
    "\n",
    "replace_vowels(\"minnie mouse\", \"?\") ➞ \"m?nn?? m??s?\"\n",
    "\n",
    "replace_vowels(\"shakespeare\", \"*\") ➞ \"sh*k*sp**r*\""
   ]
  },
  {
   "cell_type": "code",
   "execution_count": 4,
   "id": "7a567e15",
   "metadata": {},
   "outputs": [
    {
     "name": "stdout",
     "output_type": "stream",
     "text": [
      "Enter a string: shakespeare\n",
      "Enter a special character to replace vowels: *\n",
      "\n",
      "the sentence is: shakespeare\n",
      "The specified character to replace vowels in sentence: *\n",
      "The sentence after replacing vowels with special character: sh*k*sp**r*\n"
     ]
    }
   ],
   "source": [
    "def replace_vovels(txt, r):\n",
    "    a = 'AaEeIiOoUu'\n",
    "    for i in a:\n",
    "        txt = txt.replace(i, r)\n",
    "    return txt\n",
    "\n",
    "txt = input('Enter a string: ')\n",
    "r = input('Enter a special character to replace vowels: ')\n",
    "print(f'\\nthe sentence is: {txt}')\n",
    "print(f'The specified character to replace vowels in sentence: {r}')\n",
    "print(f'The sentence after replacing vowels with special character: {replace_vovels(txt,r)}')"
   ]
  },
  {
   "cell_type": "markdown",
   "id": "f96162ed",
   "metadata": {},
   "source": [
    "# Question4. Write a function that calculates the factorial of a number recursively.\n",
    "\n",
    "Examples\n",
    "\n",
    "factorial(5) ➞ 120\n",
    "\n",
    "factorial(3) ➞ 6\n",
    "\n",
    "factorial(1) ➞ 1\n",
    "\n",
    "factorial(0) ➞ 1\n"
   ]
  },
  {
   "cell_type": "code",
   "execution_count": 5,
   "id": "17d23fca",
   "metadata": {},
   "outputs": [
    {
     "name": "stdout",
     "output_type": "stream",
     "text": [
      "Please enter a no.: 5\n",
      "factorial of a 5 is 120\n"
     ]
    }
   ],
   "source": [
    "def factorial_no(n):\n",
    "    if n == 0:\n",
    "        return 1\n",
    "    return n * factorial_no(n-1)\n",
    "\n",
    "n = int(input(\"Please enter a no.: \"))\n",
    "print(f'factorial of a {n} is {factorial_no(n)}')"
   ]
  },
  {
   "cell_type": "markdown",
   "id": "79955ae2",
   "metadata": {},
   "source": [
    "# Question 5\n",
    "# Hamming distance is the number of characters that differ between two strings.\n",
    "# To illustrate:\n",
    "\n",
    "String1: \"abcbba\"\n",
    "\n",
    "String2: \"abcbda\"\n",
    "\n",
    "# Hamming Distance: 1 - \"b\" vs. \"d\" is the only difference.\n",
    "# Create a function that computes the hamming distance between two strings.\n",
    "\n",
    "Examples\n",
    "\n",
    "hamming_distance(\"abcde\", \"bcdef\") ➞ 5\n",
    "\n",
    "hamming_distance(\"abcde\", \"abcde\") ➞ 0\n",
    "\n",
    "hamming_distance(\"strong\", \"strung\") ➞ 1\n"
   ]
  },
  {
   "cell_type": "code",
   "execution_count": 6,
   "id": "29111c25",
   "metadata": {},
   "outputs": [
    {
     "name": "stdout",
     "output_type": "stream",
     "text": [
      "5\n"
     ]
    }
   ],
   "source": [
    "def hamming_distance(word1, word2):\n",
    "    i = 0\n",
    "    count = 0\n",
    " \n",
    "    while(i < len(word1)):\n",
    "        if(word1[i] != word2[i]):\n",
    "            count += 1\n",
    "        i += 1\n",
    "    return count\n",
    " \n",
    "\n",
    "word1 = \"abcde\"\n",
    "word2 = \"bcdef\"\n",
    " \n",
    "print(hamming_distance(word1, word2))"
   ]
  },
  {
   "cell_type": "code",
   "execution_count": 7,
   "id": "48c53d26",
   "metadata": {},
   "outputs": [
    {
     "data": {
      "text/plain": [
       "1"
      ]
     },
     "execution_count": 7,
     "metadata": {},
     "output_type": "execute_result"
    }
   ],
   "source": [
    "hamming_distance('strong', 'string')"
   ]
  }
 ],
 "metadata": {
  "kernelspec": {
   "display_name": "Python 3 (ipykernel)",
   "language": "python",
   "name": "python3"
  },
  "language_info": {
   "codemirror_mode": {
    "name": "ipython",
    "version": 3
   },
   "file_extension": ".py",
   "mimetype": "text/x-python",
   "name": "python",
   "nbconvert_exporter": "python",
   "pygments_lexer": "ipython3",
   "version": "3.9.7"
  }
 },
 "nbformat": 4,
 "nbformat_minor": 5
}
