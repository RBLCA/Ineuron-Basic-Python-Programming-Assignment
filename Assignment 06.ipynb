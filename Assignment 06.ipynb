{
 "cells": [
  {
   "cell_type": "markdown",
   "id": "8d26926d",
   "metadata": {},
   "source": [
    "# 1. Write a Python Program to Display Fibonacci Sequence Using Recursion?"
   ]
  },
  {
   "cell_type": "code",
   "execution_count": 1,
   "id": "7d629999",
   "metadata": {},
   "outputs": [
    {
     "name": "stdout",
     "output_type": "stream",
     "text": [
      "Pleasea enter a no: 10\n",
      "0 1 1 2 3 5 8 13 21 34 "
     ]
    }
   ],
   "source": [
    "def fibgenrec(args):\n",
    "    if args <= 1:\n",
    "        return args\n",
    "    else:\n",
    "        return fibgenrec(args-1) + fibgenrec(args-2)\n",
    "\n",
    "Numbers = int(input('Pleasea enter a no: '))\n",
    "\n",
    "if Numbers <= 0:\n",
    "    print('Wrong input, Positives no. required')\n",
    "else: \n",
    "    for i in range(Numbers):\n",
    "        print(fibgenrec(i), end = ' ')"
   ]
  },
  {
   "cell_type": "markdown",
   "id": "cdb73687",
   "metadata": {},
   "source": [
    "# 2. Write a Python Program to Find Factorial of Number Using Recursion?"
   ]
  },
  {
   "cell_type": "code",
   "execution_count": 3,
   "id": "152c8c3c",
   "metadata": {},
   "outputs": [
    {
     "name": "stdout",
     "output_type": "stream",
     "text": [
      "pleasea enter a no: 5\n",
      "120\n"
     ]
    }
   ],
   "source": [
    "def factorial(args):\n",
    "    if args==0:\n",
    "        return 1\n",
    "    else: \n",
    "        return args * factorial(args-1)\n",
    "No = int(input('pleasea enter a no: '))\n",
    "\n",
    "if No < 0:\n",
    "    print('Enter positive no.')\n",
    "else:\n",
    "    print(factorial(No))"
   ]
  },
  {
   "cell_type": "markdown",
   "id": "241c8ba4",
   "metadata": {},
   "source": [
    "# 3. Write a Python Program to calculate your Body Mass Index?"
   ]
  },
  {
   "cell_type": "code",
   "execution_count": 4,
   "id": "8c1f1990",
   "metadata": {},
   "outputs": [],
   "source": [
    "def BMI_calculator():\n",
    "    Weight = float(input('Please enter your weight in kg.: '))\n",
    "    Height = float(input('Please enter your heigh in mt: '))\n",
    "    \n",
    "    BMI = Weight/(Height*2)\n",
    "    \n",
    "    print(f'The BMI is: {BMI}')"
   ]
  },
  {
   "cell_type": "code",
   "execution_count": 5,
   "id": "6d1b187d",
   "metadata": {},
   "outputs": [
    {
     "name": "stdout",
     "output_type": "stream",
     "text": [
      "Please enter your weight in kg.: 88\n",
      "Please enter your heigh in mt: 1.76\n",
      "The BMI is: 25.0\n"
     ]
    }
   ],
   "source": [
    "BMI_calculator()"
   ]
  },
  {
   "cell_type": "markdown",
   "id": "a28d352a",
   "metadata": {},
   "source": [
    "# 4. Write a Python Program to calculate the natural logarithm of any number?"
   ]
  },
  {
   "cell_type": "code",
   "execution_count": 6,
   "id": "0852e1cc",
   "metadata": {},
   "outputs": [
    {
     "name": "stdout",
     "output_type": "stream",
     "text": [
      "Please enter a no: 5\n",
      "The natural logarith of a no is: 1.6094379124341003\n"
     ]
    }
   ],
   "source": [
    "import math\n",
    "\n",
    "NO = int(input('Please enter a no: '))\n",
    "\n",
    "print(f'The natural logarith of a no is: {math.log(NO)}')"
   ]
  },
  {
   "cell_type": "markdown",
   "id": "2f9366e8",
   "metadata": {},
   "source": [
    "# 5. Write a Python Program for cube sum of first n natural numbers?"
   ]
  },
  {
   "cell_type": "code",
   "execution_count": 7,
   "id": "b8c9bd4a",
   "metadata": {},
   "outputs": [
    {
     "name": "stdout",
     "output_type": "stream",
     "text": [
      "Please enter a no: 10\n",
      "The cube sum of: 10 is 2025\n"
     ]
    }
   ],
   "source": [
    "Num = int(input('Please enter a no: '))\n",
    "sum_cube = 0\n",
    "for i in range(1, Num):\n",
    "    sum_cube = sum_cube + i**3\n",
    "print(f'The cube sum of: {Num} is {sum_cube}')"
   ]
  }
 ],
 "metadata": {
  "kernelspec": {
   "display_name": "Python 3 (ipykernel)",
   "language": "python",
   "name": "python3"
  },
  "language_info": {
   "codemirror_mode": {
    "name": "ipython",
    "version": 3
   },
   "file_extension": ".py",
   "mimetype": "text/x-python",
   "name": "python",
   "nbconvert_exporter": "python",
   "pygments_lexer": "ipython3",
   "version": "3.9.7"
  }
 },
 "nbformat": 4,
 "nbformat_minor": 5
}
