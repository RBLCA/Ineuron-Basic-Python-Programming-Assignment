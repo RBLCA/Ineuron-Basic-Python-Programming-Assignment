{
 "cells": [
  {
   "cell_type": "markdown",
   "id": "4cf6da74",
   "metadata": {},
   "source": [
    "# 1. Write a Python program to find words which are greater than given length k?"
   ]
  },
  {
   "cell_type": "code",
   "execution_count": 1,
   "id": "ab1ba14d",
   "metadata": {},
   "outputs": [
    {
     "name": "stdout",
     "output_type": "stream",
     "text": [
      "Enter the string: want to come bangaluru\n",
      "Enter the length ok k: 4\n",
      "The original string want to come bangaluru\n",
      "Words greater than K 4\n",
      "['bangaluru']\n"
     ]
    }
   ],
   "source": [
    "def great_k(k, str):\n",
    "    text = str.split(\" \")\n",
    "    wordlist = []\n",
    "    for i in text:\n",
    "        if len(i) > k:\n",
    "            wordlist.append(i)\n",
    "    return wordlist\n",
    "\n",
    "str = input(\"Enter the string: \")\n",
    "k = int(input('Enter the length ok k: '))\n",
    "\n",
    "wordlist = great_k(k,str)\n",
    "print(f'The original string {str}')\n",
    "\n",
    "print(f\"Words greater than K {k}\")\n",
    "print(wordlist)"
   ]
  },
  {
   "cell_type": "markdown",
   "id": "145d03de",
   "metadata": {},
   "source": [
    "# 2. Write a Python program for removing i-th character from a string?"
   ]
  },
  {
   "cell_type": "code",
   "execution_count": 2,
   "id": "43aa81f9",
   "metadata": {},
   "outputs": [
    {
     "name": "stdout",
     "output_type": "stream",
     "text": [
      "Enter the string: it going to be fun\n",
      "Enter the index: 2\n",
      "The new string: itgoing to be fun\n"
     ]
    }
   ],
   "source": [
    "def remov(str, i):\n",
    "    for j in range(len(str)):\n",
    "        if j == i:\n",
    "            str = str.replace(str[i],\"\",1)\n",
    "    return str\n",
    "\n",
    "str = input('Enter the string: ')\n",
    "i = int(input('Enter the index: '))\n",
    "\n",
    "print(f'The new string: {remov(str, i)}')"
   ]
  },
  {
   "cell_type": "markdown",
   "id": "cee0747a",
   "metadata": {},
   "source": [
    "# 3. Write a Python program to split and join a string?"
   ]
  },
  {
   "cell_type": "code",
   "execution_count": 3,
   "id": "66652132",
   "metadata": {},
   "outputs": [
    {
     "name": "stdout",
     "output_type": "stream",
     "text": [
      "Split string: ['feelign', 'proud', 'as', 'a', 'student', 'of', 'iNeuron']\n",
      "Joining a string: feelign_proud_as_a_student_of_iNeuron\n"
     ]
    }
   ],
   "source": [
    "strg = \"feelign proud as a student of iNeuron\"\n",
    "strg = strg.split(\" \")\n",
    "print(f'Split string: {strg}')\n",
    "\n",
    "strg2 = \"_\".join(strg)\n",
    "print(f'Joining a string: {strg2}')"
   ]
  },
  {
   "cell_type": "markdown",
   "id": "758a558a",
   "metadata": {},
   "source": [
    "# 4. Write a Python to check if a given string is binary string or not?"
   ]
  },
  {
   "cell_type": "code",
   "execution_count": 5,
   "id": "defd5c5d",
   "metadata": {},
   "outputs": [
    {
     "name": "stdout",
     "output_type": "stream",
     "text": [
      "Enter the string101021\n",
      "Not Binary\n"
     ]
    }
   ],
   "source": [
    "def strbinary(str):\n",
    "    binary = '01'\n",
    "    for i in range(len(str)):\n",
    "        if str[i] not in binary:\n",
    "            print('Not Binary')\n",
    "            break\n",
    "    else:\n",
    "        print('Binary')\n",
    "        \n",
    "strg = input('Enter the string')\n",
    "strbinary(strg)"
   ]
  },
  {
   "cell_type": "markdown",
   "id": "041f443f",
   "metadata": {},
   "source": [
    "# 5. Write a Python program to find uncommon words from two Strings?"
   ]
  },
  {
   "cell_type": "code",
   "execution_count": 7,
   "id": "2eb4869f",
   "metadata": {},
   "outputs": [
    {
     "name": "stdout",
     "output_type": "stream",
     "text": [
      "Enter the string: everything is fine\n",
      "Enter the string: fine is best\n",
      "The uncommon words are:  everything best\n"
     ]
    }
   ],
   "source": [
    "str1 = input('Enter the string: ')\n",
    "str2 = input('Enter the string: ')\n",
    "str1 = str1.split()\n",
    "str2 = str2.split()\n",
    "not_common = \"\"\n",
    "\n",
    "for i in str1:\n",
    "    if i not in str2:\n",
    "        not_common = not_common + \" \"+ i\n",
    "\n",
    "for j in str2:\n",
    "    if j not in str1:\n",
    "        not_common = not_common + \" \" + j\n",
    "\n",
    "print(f'The uncommon words are: {not_common}')"
   ]
  },
  {
   "cell_type": "markdown",
   "id": "59a6c9e4",
   "metadata": {},
   "source": [
    "# 6. Write a Python to find all duplicate characters in string?"
   ]
  },
  {
   "cell_type": "code",
   "execution_count": 8,
   "id": "a28d25c6",
   "metadata": {},
   "outputs": [
    {
     "name": "stdout",
     "output_type": "stream",
     "text": [
      "Enter a string: I going to crack it.\n",
      "The duplicate character available in string: [' ', 'g', 'o', 'i', 'g', ' ', 't', 'o', ' ', 'c', 'c', ' ', 'i', 't']\n"
     ]
    }
   ],
   "source": [
    "strng = input(\"Enter a string: \")\n",
    "duplicate = []\n",
    "for i in strng:\n",
    "    if strng.count(i) > 1:\n",
    "        duplicate.append(i)\n",
    "print(f'The duplicate character available in string: {duplicate}')"
   ]
  },
  {
   "cell_type": "markdown",
   "id": "81b8e524",
   "metadata": {},
   "source": [
    "# 7. Write a Python Program to check if a string contains any special character?"
   ]
  },
  {
   "cell_type": "code",
   "execution_count": 9,
   "id": "d1e812ee",
   "metadata": {},
   "outputs": [
    {
     "name": "stdout",
     "output_type": "stream",
     "text": [
      "Enter a string : i a@ th# for i@ndu%@!\n",
      "This string i a@ th# for i@ndu%@! has a special characte: ['@', '#', '@', '%', '@', '!']\n"
     ]
    }
   ],
   "source": [
    "import string\n",
    "\n",
    "strg_char = string.punctuation\n",
    "spec_str = []\n",
    "\n",
    "strg = input('Enter a string : ')\n",
    "for i in strg:\n",
    "    if i in strg_char:\n",
    "        spec_str.append(i)\n",
    "if len(spec_str) > 0:\n",
    "    print(f'This string {strg} has a special characte: {spec_str}')"
   ]
  }
 ],
 "metadata": {
  "kernelspec": {
   "display_name": "Python 3 (ipykernel)",
   "language": "python",
   "name": "python3"
  },
  "language_info": {
   "codemirror_mode": {
    "name": "ipython",
    "version": 3
   },
   "file_extension": ".py",
   "mimetype": "text/x-python",
   "name": "python",
   "nbconvert_exporter": "python",
   "pygments_lexer": "ipython3",
   "version": "3.9.7"
  }
 },
 "nbformat": 4,
 "nbformat_minor": 5
}
