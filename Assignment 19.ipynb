{
 "cells": [
  {
   "cell_type": "markdown",
   "id": "4ad1f034",
   "metadata": {},
   "source": [
    "# Question1\n",
    "# Create a function that takes a string and returns a string in which each character is repeated once.\n",
    "\n",
    "Examples\n",
    "\n",
    "double_char(\"String\") ➞ \"SSttrriinngg\"\n",
    "\n",
    "double_char(\"Hello World!\") ➞ \"HHeelllloo  WWoorrlldd!!\"\n",
    "\n",
    "double_char(\"1234!_ \") ➞ \"11223344!!__  \""
   ]
  },
  {
   "cell_type": "code",
   "execution_count": 1,
   "id": "d63aa6bc",
   "metadata": {},
   "outputs": [
    {
     "name": "stdout",
     "output_type": "stream",
     "text": [
      "Enter string: Hello World\n"
     ]
    },
    {
     "data": {
      "text/plain": [
       "'HHeelllloo  WWoorrlldd'"
      ]
     },
     "execution_count": 1,
     "metadata": {},
     "output_type": "execute_result"
    }
   ],
   "source": [
    "def rept_string(word):\n",
    "    l = []\n",
    "    for i in word:\n",
    "        l.append(i+i)\n",
    "    return \"\".join(l)\n",
    "\n",
    "rept_string(input('Enter string: '))"
   ]
  },
  {
   "cell_type": "markdown",
   "id": "6aa07f4b",
   "metadata": {},
   "source": [
    "# Question2\n",
    "# Create a function that reverses a boolean value and returns the string \"boolean expected\" if another variable type is given.\n",
    "\n",
    "Examples\n",
    "\n",
    "reverse(True) ➞ False\n",
    "\n",
    "reverse(False) ➞ True\n",
    "\n",
    "reverse(0) ➞ \"boolean expected\"\n",
    "\n",
    "reverse(None) ➞ \"boolean expected\""
   ]
  },
  {
   "cell_type": "code",
   "execution_count": 2,
   "id": "2e41fca1",
   "metadata": {},
   "outputs": [
    {
     "name": "stdout",
     "output_type": "stream",
     "text": [
      "True\n",
      "False\n",
      "boolean expected\n",
      "boolean expected\n"
     ]
    }
   ],
   "source": [
    "def bol_return(word):\n",
    "    if type(word) == bool:\n",
    "        if word == True:\n",
    "            return False\n",
    "        else:\n",
    "            return True\n",
    "    else:\n",
    "        return \"boolean expected\"\n",
    "        \n",
    "print(bol_return(False))\n",
    "print(bol_return(True))\n",
    "print(bol_return(0))\n",
    "print(bol_return(456))"
   ]
  },
  {
   "cell_type": "markdown",
   "id": "0fc72d77",
   "metadata": {},
   "source": [
    "# Question3\n",
    "# Create a function that returns the thickness (in meters) of a piece of paper after folding it n number of times. The paper starts off with a thickness of 0.5mm.\n",
    "\n",
    "Examples\n",
    "\n",
    "num_layers(1) ➞ \"0.001m\"\n",
    "\n",
    "Paper folded once is 1mm (equal to 0.001m)\n",
    "\n",
    "num_layers(4) ➞ \"0.008m\"\n",
    "\n",
    "Paper folded 4 times is 8mm (equal to 0.008m)\n",
    "\n",
    "num_layers(21) ➞ \"1048.576m\"\n",
    "\n",
    "Paper folded 21 times is 1048576mm (equal to 1048.576m)"
   ]
  },
  {
   "cell_type": "code",
   "execution_count": 3,
   "id": "6d4cfb6c",
   "metadata": {},
   "outputs": [
    {
     "name": "stdout",
     "output_type": "stream",
     "text": [
      "Enter thickness of paper in mm: 5\n",
      "Enter no. of paper folding required: 4\n",
      "paper folded 4 times is equal to 0.02m\n"
     ]
    }
   ],
   "source": [
    "def thickness_calculator(Thickness, Layers):\n",
    "    final_thickness = Thickness * Layers\n",
    "    \n",
    "    return str(final_thickness/1000) + 'm'\n",
    "\n",
    "Thickness = int(input('Enter thickness of paper in mm: '))\n",
    "paper_folded = int(input('Enter no. of paper folding required: '))\n",
    "print(f'paper folded {paper_folded} times is equal to {thickness_calculator(Thickness, paper_folded)}')"
   ]
  },
  {
   "cell_type": "markdown",
   "id": "d099d465",
   "metadata": {},
   "source": [
    "# Question4\n",
    "# Create a function that takes a single string as argument and returns an ordered list containing the indices of all capital letters in the string.\n",
    "\n",
    "Examples\n",
    "\n",
    "index_of_caps(\"eDaBiT\") ➞ [1, 3, 5]\n",
    "\n",
    "index_of_caps(\"eQuINoX\") ➞ [1, 3, 4, 6]\n",
    "\n",
    "index_of_caps(\"determine\") ➞ []\n",
    "\n",
    "index_of_caps(\"STRIKE\") ➞ [0, 1, 2, 3, 4, 5]\n",
    "\n",
    "index_of_caps(\"sUn\") ➞ [1]"
   ]
  },
  {
   "cell_type": "code",
   "execution_count": 4,
   "id": "48cda2c0",
   "metadata": {},
   "outputs": [
    {
     "name": "stdout",
     "output_type": "stream",
     "text": [
      "[1, 3, 5]\n",
      "[1, 3, 4, 6]\n",
      "[0, 1, 2, 3, 4, 5]\n",
      "[1]\n",
      "[1]\n"
     ]
    }
   ],
   "source": [
    "def cap_let_indices(word):\n",
    "    idex = []\n",
    "    for i in range(len(word)):\n",
    "        if word[i].isupper():\n",
    "            idex.append(i)\n",
    "    return idex\n",
    "\n",
    "print(cap_let_indices('eDaBiTe'))\n",
    "print(cap_let_indices('eQuINoX'))\n",
    "print(cap_let_indices('STRIKE'))\n",
    "print(cap_let_indices('sUn'))\n",
    "print(cap_let_indices('sUn'))"
   ]
  },
  {
   "cell_type": "markdown",
   "id": "73c23f32",
   "metadata": {},
   "source": [
    "# Question5\n",
    "# Using list comprehensions, create a function that finds all even numbers from 1 to the given number.\n",
    "\n",
    "Examples\n",
    "\n",
    "find_even_nums(8) ➞ [2, 4, 6, 8]\n",
    "\n",
    "find_even_nums(4) ➞ [2, 4]\n",
    "\n",
    "find_even_nums(2) ➞ [2]"
   ]
  },
  {
   "cell_type": "code",
   "execution_count": 5,
   "id": "d3c9426c",
   "metadata": {},
   "outputs": [
    {
     "name": "stdout",
     "output_type": "stream",
     "text": [
      "[2, 4, 6, 8]\n",
      "[2, 4]\n",
      "[2]\n"
     ]
    }
   ],
   "source": [
    "def even_no(a):\n",
    "    even = []\n",
    "    for i in range(1,a+1):\n",
    "        if i % 2 == 0:\n",
    "            even.append(i)\n",
    "    return even\n",
    "print(even_no(8))\n",
    "print(even_no(4))\n",
    "print(even_no(2))"
   ]
  }
 ],
 "metadata": {
  "kernelspec": {
   "display_name": "Python 3 (ipykernel)",
   "language": "python",
   "name": "python3"
  },
  "language_info": {
   "codemirror_mode": {
    "name": "ipython",
    "version": 3
   },
   "file_extension": ".py",
   "mimetype": "text/x-python",
   "name": "python",
   "nbconvert_exporter": "python",
   "pygments_lexer": "ipython3",
   "version": "3.9.7"
  }
 },
 "nbformat": 4,
 "nbformat_minor": 5
}
